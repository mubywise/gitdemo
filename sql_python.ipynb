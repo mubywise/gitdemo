{
 "cells": [
  {
   "cell_type": "code",
   "execution_count": 1,
   "metadata": {},
   "outputs": [],
   "source": [
    "from mysql.connector import connect, Error\n",
    "import os"
   ]
  },
  {
   "cell_type": "code",
   "execution_count": 2,
   "metadata": {},
   "outputs": [
    {
     "name": "stdout",
     "output_type": "stream",
     "text": [
      "\u001b[1;31mSignature:\u001b[0m \u001b[0mconnect\u001b[0m\u001b[1;33m(\u001b[0m\u001b[1;33m*\u001b[0m\u001b[0margs\u001b[0m\u001b[1;33m:\u001b[0m \u001b[1;34m'Any'\u001b[0m\u001b[1;33m,\u001b[0m \u001b[1;33m**\u001b[0m\u001b[0mkwargs\u001b[0m\u001b[1;33m:\u001b[0m \u001b[1;34m'Any'\u001b[0m\u001b[1;33m)\u001b[0m \u001b[1;33m->\u001b[0m \u001b[1;34m'Union[PooledMySQLConnection, MySQLConnection, CMySQLConnection]'\u001b[0m\u001b[1;33m\u001b[0m\u001b[1;33m\u001b[0m\u001b[0m\n",
      "\u001b[1;31mDocstring:\u001b[0m\n",
      "Create or get a MySQL connection object.\n",
      "\n",
      "In its simpliest form, connect() will open a connection to a\n",
      "MySQL server and return a MySQLConnection object.\n",
      "\n",
      "When any connection pooling arguments are given, for example pool_name\n",
      "or pool_size, a pool is created or a previously one is used to return\n",
      "a PooledMySQLConnection.\n",
      "\n",
      "Returns MySQLConnection or PooledMySQLConnection.\n",
      "\u001b[1;31mFile:\u001b[0m      c:\\users\\user\\appdata\\local\\programs\\python\\python311\\lib\\site-packages\\mysql\\connector\\pooling.py\n",
      "\u001b[1;31mType:\u001b[0m      function"
     ]
    }
   ],
   "source": [
    "connect?"
   ]
  },
  {
   "cell_type": "code",
   "execution_count": 3,
   "metadata": {},
   "outputs": [],
   "source": [
    "pass_word = os.environ.get ('mysql_password')"
   ]
  },
  {
   "cell_type": "code",
   "execution_count": 4,
   "metadata": {},
   "outputs": [
    {
     "name": "stdout",
     "output_type": "stream",
     "text": [
      "Connection to database successful.\n"
     ]
    }
   ],
   "source": [
    "try:\n",
    "  connection = connect(username=\"root\", password= pass_word, host= 'localhost', database= 'supermarket')\n",
    "  print('Connection to database successful.')\n",
    "except Error as err:\n",
    "  print(err)"
   ]
  },
  {
   "cell_type": "code",
   "execution_count": 5,
   "metadata": {},
   "outputs": [
    {
     "name": "stdout",
     "output_type": "stream",
     "text": [
      "1062 (23000): Duplicate entry 'cat101' for key 'category.PRIMARY'\n"
     ]
    }
   ],
   "source": [
    "category = ('cat101', 'Laundry')\n",
    "try:\n",
    "  query = \"\"\"\n",
    "  insert into category (category_id, category_name)\n",
    "  values (%s, %s)\n",
    "  \"\"\"\n",
    "  cursor = connection.cursor()\n",
    "  cursor.execute(query, category)\n",
    "  connection.commit()\n",
    "  print(f\"{cursor.rowcount} record(s) created\")\n",
    "except Error as err:\n",
    "  print(err)\n"
   ]
  },
  {
   "cell_type": "code",
   "execution_count": 6,
   "metadata": {},
   "outputs": [],
   "source": [
    "categories = [('cat100', 'AK47'),\n",
    "              ('cat99', 'M4'),\n",
    "              ('cat98', 'SNIPER'),\n",
    "              ('cat97', 'Pow'),\n",
    "              ('cat96', 'Laundry')]"
   ]
  },
  {
   "cell_type": "code",
   "execution_count": 7,
   "metadata": {},
   "outputs": [
    {
     "name": "stdout",
     "output_type": "stream",
     "text": [
      "Failed executing the operation; Not enough parameters for the SQL statement\n"
     ]
    }
   ],
   "source": [
    "category = ('cat101', 'Laundry')\n",
    "try:\n",
    "  query = \"\"\"\n",
    "  insert into category (category_id, category_name)\n",
    "  values (%s, %s,%s, %s)\n",
    "  \"\"\"\n",
    "  cursor = connection.cursor()\n",
    "  cursor.executemany(query, categories)\n",
    "  connection.commit()\n",
    "  print(f\"{cursor.rowcount} record(s) created\")\n",
    "except Error as err:    \n",
    "  print(err)"
   ]
  },
  {
   "cell_type": "code",
   "execution_count": 8,
   "metadata": {},
   "outputs": [],
   "source": [
    "products = [\n",
    "            ('PRD100', 'Oral B Toothpaste', 'Cat100', 2200, 25),\n",
    "            ('PRD101', 'Amoeba', 'Cat100', 2200, 25),\n",
    "            ('PRD102', 'Gangster', 'Cat98', 2200, 25),\n",
    "            ('PRD103', 'Setup', 'Cat97', 1500, 25),\n",
    "            ('PRD104', 'Ginger', 'Cat98', 700, 25),\n",
    "            ('PRD105', 'Sand', 'Cat97', 100, 25),\n",
    "            ('PRD106', 'Water', 'Cat96', 100, 25),\n",
    "            ('PRD107', 'Petrol', 'Cat97', 100, 25),\n",
    "            ('PRD108', 'Jelly Fish', 'Cat96', 100, 25),\n",
    "            ('PRD109', 'Hammer', 'Cat100', 100, 25)]"
   ]
  },
  {
   "cell_type": "code",
   "execution_count": 10,
   "metadata": {},
   "outputs": [
    {
     "name": "stdout",
     "output_type": "stream",
     "text": [
      "1062 (23000): Duplicate entry 'PRD100' for key 'products.PRIMARY'\n"
     ]
    }
   ],
   "source": [
    "try:\n",
    "  query = \"\"\"\n",
    "  insert into products (product_id, product_name, category_id, price, quantity)\n",
    "  values (%s, %s,%s, %s, %s)\n",
    "  \"\"\"\n",
    "  cursor = connection.cursor()\n",
    "  cursor.executemany(query, products)\n",
    "  connection.commit()\n",
    "  print(f\"{cursor.rowcount} records created\")\n",
    "\n",
    "except Error as err:\n",
    "  print(err)"
   ]
  },
  {
   "cell_type": "code",
   "execution_count": 11,
   "metadata": {},
   "outputs": [],
   "source": [
    "customers = [('cust101', \"Yewande Ruth\", '09064546633', 'bukkyo@gmail.com', 'Epe, Lagos'),\n",
    "             ('cust102', \"Momoh Dupe\", '09076595733', 'bfafao@gmail.com', 'Oloba, Lagos'),\n",
    "             ('cust103', \"Yayi Abu\", '09065027633', 'badfadfyo@gmail.com', 'Bruh Shaggi, Lagos'),\n",
    "             ('cust104', \"Femi Enoch\", '09076594733', 'buadfasdfkkyo@gmail.com', 'Officer Woos, Lagos'),\n",
    "             ('cust105', \"ebunoluwa\", '09343594733', 'buadfasdfkkyo@gmail.com', 'Officer Woos, Lagos'),]"
   ]
  },
  {
   "cell_type": "code",
   "execution_count": 12,
   "metadata": {},
   "outputs": [
    {
     "name": "stdout",
     "output_type": "stream",
     "text": [
      "1062 (23000): Duplicate entry 'cust101' for key 'customers.PRIMARY'\n"
     ]
    }
   ],
   "source": [
    "try:\n",
    "  query = \"\"\"\n",
    "  insert into customers (customer_id, customer_name, phone_number, email_address, address)\n",
    "  values (%s, %s,%s, %s, %s)\n",
    "  \"\"\"\n",
    "  cursor = connection.cursor()\n",
    "  cursor.executemany(query, customers)\n",
    "  connection.commit()\n",
    "  print(f\"{cursor.rowcount} records created\")\n",
    "except Error as err:\n",
    "  print(err)\n"
   ]
  },
  {
   "cell_type": "code",
   "execution_count": 13,
   "metadata": {},
   "outputs": [
    {
     "name": "stdout",
     "output_type": "stream",
     "text": [
      "('cust101', 'Yewande Ruth', '09064546633', 'bukkyo@gmail.com', 'Epe, Lagos')\n"
     ]
    }
   ],
   "source": [
    "try:\n",
    "  query = \"\"\"\n",
    "  select * from customers\n",
    "  \"\"\"\n",
    "  cursor = connection.cursor(buffered=True)\n",
    "  cursor.execute(query)\n",
    "  print(cursor.fetchone())\n",
    "except Error as err:\n",
    "  print(err)"
   ]
  },
  {
   "cell_type": "code",
   "execution_count": 14,
   "metadata": {},
   "outputs": [
    {
     "name": "stdout",
     "output_type": "stream",
     "text": [
      "[('cust101', 'Yewande Ruth', '09064546633', 'bukkyo@gmail.com', 'Epe, Lagos')]\n"
     ]
    }
   ],
   "source": [
    "query = \"\"\"\n",
    "select * from customers where customer_id = %s\n",
    "\"\"\"\n",
    "\n",
    "cursor = connection.cursor()\n",
    "cursor.execute (query, (\"cust101\",))\n",
    "print(cursor.fetchall())"
   ]
  },
  {
   "cell_type": "code",
   "execution_count": 15,
   "metadata": {},
   "outputs": [
    {
     "name": "stdout",
     "output_type": "stream",
     "text": [
      "[('cust101', 'Yewande Ruth', '09064546633', 'bukkyo@gmail.com', 'Epe, Lagos'), ('cust103', 'Yayi Abu', '09065027633', 'badfadfyo@gmail.com', 'Bruh Shaggi, Lagos')]\n"
     ]
    }
   ],
   "source": [
    "query = \"\"\"\n",
    "select * from customers where customer_name like 'y%'\n",
    "\"\"\"\n",
    "\n",
    "cursor = connection.cursor()\n",
    "cursor.execute (query)\n",
    "print(cursor.fetchall())"
   ]
  },
  {
   "cell_type": "code",
   "execution_count": 16,
   "metadata": {},
   "outputs": [],
   "source": [
    "customer = 'cust101' \n",
    "\n",
    "items = [('PRD101', 5), ('PRD102', 2), ('PRD103', 3)]"
   ]
  },
  {
   "cell_type": "code",
   "execution_count": 17,
   "metadata": {},
   "outputs": [
    {
     "data": {
      "text/plain": [
       "'2023-03-30 12:35:30'"
      ]
     },
     "execution_count": 17,
     "metadata": {},
     "output_type": "execute_result"
    }
   ],
   "source": [
    "import datetime \n",
    "date = datetime.datetime.now()\n",
    "date.strftime(\"%Y-%m-%d %H:%M:%S\")"
   ]
  },
  {
   "cell_type": "code",
   "execution_count": 23,
   "metadata": {},
   "outputs": [
    {
     "name": "stdout",
     "output_type": "stream",
     "text": [
      "[11000.0]\n",
      "11000.0\n",
      "[11000.0, 4400.0]\n",
      "15400.0\n",
      "[11000.0, 4400.0, 4500.0]\n",
      "19900.0\n"
     ]
    }
   ],
   "source": [
    "order_total = 0 \n",
    "prd_total_list = []\n",
    "try:\n",
    "  for item in items: \n",
    "    p_id, qty_requested = item\n",
    "    prod_query = \"\"\"\n",
    "      select product_id, price, quantity from products where product_id = %s\n",
    "      \"\"\" \n",
    "\n",
    "    cursor = connection.cursor(buffered=True)\n",
    "    cursor.execute(prod_query, (p_id,)) \n",
    "    product_info = cursor.fetchone()\n",
    "    #print(cursor.fetchall())\n",
    "    product_price = product_info[1]\n",
    "    available_qty = product_info[2]\n",
    "\n",
    "    if available_qty >= qty_requested:\n",
    "      new_qty = available_qty - qty_requested \n",
    "      update_query = \"\"\"\n",
    "      update products set quantity = %s where product_id = %s\n",
    "      \"\"\"\n",
    "      cursor.execute (update_query, (new_qty, p_id))\n",
    "      prd_total = product_price * qty_requested\n",
    "      prd_total_list.append(prd_total)\n",
    "      order_total += prd_total\n",
    "\n",
    "      print(prd_total_list)\n",
    "      print(order_total)\n",
    "    else :\n",
    "      print (f\"requested quantity for {p_id} not available, only (available_qty) left\")\n",
    "  order_query = \"\"\"\n",
    "  insert into orders (order_date, customer_id, total)\n",
    "  values (%s, %s, %s)\n",
    "  \"\"\"\n",
    "  date = datetime.datetime.now()\n",
    "  date.strftime(\"%Y-%m-%d %H:%M:%S\")\n",
    "  cursor.execute (order_query, (date, customer, order_total))\n",
    "\n",
    "  get_orderid_query = \"\"\"\n",
    "  select max(order_id) from orders\n",
    "  \"\"\"\n",
    "  cursor .execute(get_orderid_query)\n",
    "  order_id = cursor.fetchone()[0]\n",
    "  \n",
    "  for i in range(len(prd_total_list)):\n",
    "    details_query = \"\"\"\n",
    "    insert into order_details (order_id, product_id, quantity, product_total)\n",
    "    values(%s,%s,%s,%s)\n",
    "    \"\"\"\n",
    "    p_id, p_qty = items[i]\n",
    "    cursor.execute(details_query, (order_id, p_id, p_qty, prd_total_list [i]))\n",
    "  connection.commit()\n",
    "except Error as err:\n",
    "    print(err)\n",
    "    connection.rollback()\n"
   ]
  },
  {
   "cell_type": "code",
   "execution_count": null,
   "metadata": {},
   "outputs": [],
   "source": []
  }
 ],
 "metadata": {
  "kernelspec": {
   "display_name": "Python 3",
   "language": "python",
   "name": "python3"
  },
  "language_info": {
   "codemirror_mode": {
    "name": "ipython",
    "version": 3
   },
   "file_extension": ".py",
   "mimetype": "text/x-python",
   "name": "python",
   "nbconvert_exporter": "python",
   "pygments_lexer": "ipython3",
   "version": "3.11.2"
  },
  "orig_nbformat": 4
 },
 "nbformat": 4,
 "nbformat_minor": 2
}
